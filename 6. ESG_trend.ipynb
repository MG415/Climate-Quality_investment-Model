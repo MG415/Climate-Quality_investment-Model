{
 "cells": [
  {
   "cell_type": "code",
   "execution_count": null,
   "id": "2b25b274",
   "metadata": {
    "tags": []
   },
   "outputs": [],
   "source": [
    "from pytrends.request import TrendReq\n",
    "#from pytrendsasync.request import TrendReq\n",
    "import pandas as pd"
   ]
  },
  {
   "cell_type": "markdown",
   "id": "b3bed1b1",
   "metadata": {},
   "source": [
    "Download ESG Glossary from here : https://breckinridge-fs.s3.amazonaws.com/files/uploads/esg-glossary-2.pdf"
   ]
  },
  {
   "cell_type": "code",
   "execution_count": null,
   "id": "770b1b23",
   "metadata": {
    "tags": []
   },
   "outputs": [],
   "source": [
    "glossary_list = ['B Corp',\n",
    "                'Benefit Corporation',\n",
    "                'Best in Class',\n",
    "                'Biodiversity',\n",
    "                'Biofuel',\n",
    "                'Carbon Footprint',\n",
    "                'Carbon Neutral',\n",
    "                'Carbon Pricing',\n",
    "                'CDP',\n",
    "                'Ceres',\n",
    "                'Chief Executives for Corporate ',\n",
    "                'Purpose (CECP)',\n",
    "                'Climate Action 100+',\n",
    "                'Climate Change',\n",
    "                'Clean Energy/Renewable Energy',\n",
    "                'Circular Economy',\n",
    "                'Conference of the Parties (COP)',\n",
    "                'Corporate Social Responsibility',\n",
    "                'CSR Report',\n",
    "                'Diversity, Equity, and Inclusion',\n",
    "                'Divestment',\n",
    "                'Environmental Factors',\n",
    "                'Environmental, Social and ',\n",
    "                'Governance (ESG)',\n",
    "                'ESG Integration',\n",
    "                'Ethical Investing',\n",
    "                'EU Taxonomy (for Sustainable ',\n",
    "                'Activities)',\n",
    "                'Exclusionary (or Negative) Screening',\n",
    "                'Extra-financial Risks',\n",
    "                'Gender Equity',\n",
    "                'Gender Lens Investing',\n",
    "                'Global Reporting Initiative (GRI)',\n",
    "                'Governance Factors',\n",
    "                'Green Bonds',\n",
    "                'Greenhouse Gas (GHG) Emissions',\n",
    "                'GHG Protocol',\n",
    "                'Greenwashing',\n",
    "                'Impact Investing',\n",
    "                'Integrated Reporting',\n",
    "                'Issuer Engagement',\n",
    "                'Materiality',\n",
    "                'Net Zero',\n",
    "                'Physical Climate Risks',\n",
    "                'Positive Screening',\n",
    "                'Science-Based Targets Initiative (SBTi)',\n",
    "                'Scope 1 - Under the GHG Protocol, ',\n",
    "                'All Direct Emissions',\n",
    "                'Scope 2 - Under the GHG Protocol, ',\n",
    "                'Indirect Emissions',\n",
    "                'Scope 3 - Under the GHG Protocol, ',\n",
    "                'All Other Indirect Emissions',\n",
    "                'Shareholder Advocacy',\n",
    "                'Sin Stocks',\n",
    "                'Social Bonds',\n",
    "                'Social Factors',\n",
    "                'Social Progress Index (SPI)',\n",
    "                'Socially Responsible Investing (SRI)',\n",
    "                'Stakeholder Engagement',\n",
    "                'Stranded Assets',\n",
    "                'Sustainability Bonds',\n",
    "                'Sustainability-Linked Bonds',\n",
    "                'Sustainable Investing',\n",
    "                'The Sustainability Accounting ',\n",
    "                'Standards Board (SASB)',\n",
    "                'Sustainable Development Goals (SDG)',\n",
    "                'Sustainable Finance Disclosure ',\n",
    "                'Regulation (SFDR)',\n",
    "                'Sustainable Investing',\n",
    "                'Task Force on Climate-Related ',\n",
    "                'Financial Disclosures (TCFD)',\n",
    "                'Thematic Investing',\n",
    "                'Transition Risk',\n",
    "                'Triple Bottom Line',\n",
    "                'United Nations Framework Convention ',\n",
    "                'on Climate Change (UNFCCC)',\n",
    "                'United Nations Principles for ',\n",
    "                'Responsible Investing (UN PRI)',\n",
    "                'Values-Based and Impact Investing',\n",
    "                'Zero Waste']"
   ]
  },
  {
   "cell_type": "code",
   "execution_count": null,
   "id": "3b7d8ca0-53a1-4476-847e-48990bfb0a29",
   "metadata": {
    "tags": []
   },
   "outputs": [],
   "source": [
    "len(glossary_list)"
   ]
  },
  {
   "cell_type": "code",
   "execution_count": null,
   "id": "94d6fcee",
   "metadata": {
    "tags": []
   },
   "outputs": [],
   "source": [
    "pytrend = TrendReq()\n",
    "df = pd.DataFrame()\n",
    "for i in range(1,81):\n",
    "    pytrend.build_payload(kw_list=glossary_list[i-1 : i] , timeframe='2015-09-30 2023-03-03')\n",
    "    dg = pytrend.interest_over_time()\n",
    "    #dg = dg.drop(labels=['isPartial'],axis='columns')\n",
    "    #dg = pd.DataFrame(dg)\n",
    "    print (dg)\n",
    "    #print (dg.head(10))\n",
    "    df = pd.concat([df, dg], axis=1)\n",
    "    #df = pd.concat([df, dg.values()], axis=1)\n",
    "    #df = pd.merge(df, dg)\n",
    "df = df.drop(columns=[ 'isPartial'])\n",
    "df = df.loc[(df.sum(axis=1) != 0), (df.sum(axis=0) != 0)]"
   ]
  },
  {
   "cell_type": "code",
   "execution_count": null,
   "id": "ee107a73",
   "metadata": {},
   "outputs": [],
   "source": [
    "df.head()"
   ]
  },
  {
   "cell_type": "code",
   "execution_count": null,
   "id": "8a1ee541",
   "metadata": {
    "scrolled": true
   },
   "outputs": [],
   "source": [
    "df.info()"
   ]
  },
  {
   "cell_type": "code",
   "execution_count": null,
   "id": "cbc9a9f3",
   "metadata": {},
   "outputs": [],
   "source": [
    "# please save df to csv"
   ]
  },
  {
   "cell_type": "code",
   "execution_count": null,
   "id": "da237432",
   "metadata": {},
   "outputs": [],
   "source": []
  }
 ],
 "metadata": {
  "kernelspec": {
   "display_name": "Python 3 (ipykernel)",
   "language": "python",
   "name": "python3"
  },
  "language_info": {
   "codemirror_mode": {
    "name": "ipython",
    "version": 3
   },
   "file_extension": ".py",
   "mimetype": "text/x-python",
   "name": "python",
   "nbconvert_exporter": "python",
   "pygments_lexer": "ipython3",
   "version": "3.8.13"
  }
 },
 "nbformat": 4,
 "nbformat_minor": 5
}
