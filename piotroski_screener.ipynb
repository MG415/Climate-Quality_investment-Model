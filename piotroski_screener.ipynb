{
 "cells": [
  {
   "cell_type": "markdown",
   "metadata": {},
   "source": [
    "# Data"
   ]
  },
  {
   "cell_type": "markdown",
   "metadata": {},
   "source": [
    "Russell 3000 stocks, quarterly, from 2016 - 2021 was obtained from parsing through the SEC EDGAR public archives for 10-Q and 10-Q/A balance sheet, cash flow, and income statments."
   ]
  },
  {
   "cell_type": "code",
   "execution_count": 35,
   "metadata": {},
   "outputs": [],
   "source": [
    "import pandas as pd\n",
    "import os\n",
    "import numpy as np\n",
    "from ipykernel import kernelapp as app\n",
    "import matplotlib.pyplot as plt\n",
    "\n",
    "BASE_DIR = os.path.abspath(os.path.dirname('__file__'))\n",
    "\n",
    "DATA_DIR = os.path.join(BASE_DIR, 'data')\n",
    "\n",
    "def csv_to_df(file,directory=DATA_DIR):\n",
    "    file = os.path.join(directory, f'{file}.csv')\n",
    "    file = pd.read_csv(file)\n",
    "    label_list = [file.loc[x][0] for x in file.index]\n",
    "    file = pd.DataFrame.transpose(file)\n",
    "    file.columns = label_list\n",
    "    file = file.drop(['Unnamed: 0'])\n",
    "    file.reset_index()\n",
    "    return file"
   ]
  },
  {
   "cell_type": "code",
   "execution_count": 36,
   "metadata": {},
   "outputs": [],
   "source": [
    "ticker_list = [x[:x.find('.')] for x in sorted(os.listdir(DATA_DIR)) if x.endswith('csv')]\n",
    "dfx = {i : csv_to_df(i) for i in ticker_list}\n",
    "quarter_list = list(dfx[ticker_list[0]].keys())\n",
    "time_range = quarter_list[:-4]"
   ]
  },
  {
   "cell_type": "markdown",
   "metadata": {},
   "source": [
    "# Piotroski F-Score\n"
   ]
  },
  {
   "cell_type": "code",
   "execution_count": 37,
   "metadata": {},
   "outputs": [],
   "source": [
    "def keyerrorwrap(func):\n",
    "    def wrapper(*args,**kwargs):\n",
    "        try: return func(*args,**kwargs)\n",
    "        except KeyError:return False\n",
    "    def swapper(*args,**kwargs):return func(*args,**kwargs)\n",
    "    return wrapper\n",
    "\n",
    "def lastQ(q):\n",
    "    try: return quarter_list[quarter_list.index(q) + 1]\n",
    "    except IndexError:return False"
   ]
  },
  {
   "cell_type": "code",
   "execution_count": 65,
   "metadata": {},
   "outputs": [],
   "source": [
    "class Score: #class methods for calculating score subcomponents\n",
    "    def __init__(self,ticker):\n",
    "        self.ticker = ticker\n",
    "    #Piotroski Score\n",
    "    #Profitability Criteria\n",
    "    @keyerrorwrap \n",
    "    def pos_NI(self,quarter): # Positive NI\n",
    "        return self.ticker.loc['netincome'][quarter] >0        \n",
    "\n",
    "    @keyerrorwrap\n",
    "    def pos_ROA(self,quarter): # Positive ROA\n",
    "        return  (self.ticker.loc['netincome'][quarter]/self.ticker.loc['totalassets'][quarter] > 1)\n",
    "        \n",
    "    @keyerrorwrap\n",
    "    def pos_OCF(self,quarter):# Positive Operating CF\n",
    "        return self.ticker.loc['operatingincome'][quarter] >0\n",
    "        \n",
    "    @keyerrorwrap\n",
    "    def CF_NI(self,quarter): #operating cashflow is greater than net incom\n",
    "        return  (self.ticker.loc['operatingincome'][quarter] > self.ticker.loc['netincome'][quarter])\n",
    "\n",
    "    # Leverage, Liquidity, and Source of Funds Criteria\n",
    "    @keyerrorwrap \n",
    "    def low_LT_debt(self,quarter):\n",
    "        cur_q = self.ticker[quarter]\n",
    "        pre_q = self.ticker[lastQ(quarter)]\n",
    "        return (cur_q.loc['longtermdebt'] / cur_q.loc['totalliab']) > (pre_q.loc['longtermdebt'] / pre_q.loc['totalliab'])\n",
    "        \n",
    "    @keyerrorwrap\n",
    "    def current_ratio(self,quarter): #greater than previous\n",
    "        cur_q = self.ticker[quarter]\n",
    "        pre_q = self.ticker[lastQ(quarter)]\n",
    "        return (cur_q.loc['totalassets'] / cur_q.loc['totalliab']) > (pre_q.loc['totalassets'] / pre_q.loc['totalliab'])\n",
    "\n",
    "    @keyerrorwrap\n",
    "    def new_shares(self,quarter): #no new shares issued\n",
    "        return self.ticker.loc['commonstock'][quarter] != self.ticker.loc['commonstock'][lastQ(quarter)]\n",
    "\n",
    "    #Operating Efficiency Criteria\n",
    "    @keyerrorwrap \n",
    "    def gross_margin(self,quarter):  # greater gross margin in current quarter compared to last quarter        \n",
    "        cur_q = self.ticker[quarter]\n",
    "        pre_q = self.ticker[lastQ(quarter)]\n",
    "        return (cur_q.loc['operatingincome'] - cur_q.loc['costofrevenue']) > (pre_q.loc['operatingincome'] - pre_q.loc['costofrevenue'])\n",
    "\n",
    "    @keyerrorwrap\n",
    "    def asset_turnover(self,quarter): # greater asset turnover in current quarter compared to last quarter         \n",
    "        cur_q = self.ticker[quarter]\n",
    "        pre_q = self.ticker[lastQ(quarter)]\n",
    "        return (cur_q.loc['costofrevenue'] / cur_q.loc['totalassets']) > (pre_q.loc['costofrevenue'] / pre_q.loc['totalassets'])\n",
    "\n",
    "    #consolidated criteria classic f-score\n",
    "    def f_score(self, quarter):\n",
    "        f_score = 0\n",
    "        f_score_funcs =[self.asset_turnover,\n",
    "                        self.gross_margin,\n",
    "                        self.new_shares,\n",
    "                        self.current_ratio,\n",
    "                        self.low_LT_debt,\n",
    "                        self.CF_NI,\n",
    "                        self.pos_OCF,\n",
    "                        self.pos_ROA,\n",
    "                        self.pos_NI]\n",
    "        for criteria in f_score_funcs:\n",
    "            f_score += criteria(quarter)\n",
    "        return f_score"
   ]
  },
  {
   "cell_type": "code",
   "execution_count": 39,
   "metadata": {},
   "outputs": [],
   "source": [
    "#dataframe for price by stock and quarter\n",
    "price_df =  pd.DataFrame({x: dfx[x].loc['price'] for x in ticker_list if 'price' in dfx[x].index}, index=quarter_list)\n",
    "\n",
    "#dataframe for f-score by stock and quarter\n",
    "df_fscore = pd.DataFrame({x: {Quart: Score(dfx[x]).f_score(Quart) for Quart in time_range} for x in ticker_list}, index=time_range)"
   ]
  },
  {
   "cell_type": "code",
   "execution_count": 40,
   "metadata": {},
   "outputs": [
    {
     "data": {
      "text/html": [
       "<div>\n",
       "<style scoped>\n",
       "    .dataframe tbody tr th:only-of-type {\n",
       "        vertical-align: middle;\n",
       "    }\n",
       "\n",
       "    .dataframe tbody tr th {\n",
       "        vertical-align: top;\n",
       "    }\n",
       "\n",
       "    .dataframe thead th {\n",
       "        text-align: right;\n",
       "    }\n",
       "</style>\n",
       "<table border=\"1\" class=\"dataframe\">\n",
       "  <thead>\n",
       "    <tr style=\"text-align: right;\">\n",
       "      <th></th>\n",
       "      <th>AAPL</th>\n",
       "      <th>AAT</th>\n",
       "      <th>AAWW</th>\n",
       "      <th>ABBV</th>\n",
       "      <th>ABC</th>\n",
       "      <th>ABCB</th>\n",
       "      <th>ABG</th>\n",
       "      <th>ABMD</th>\n",
       "      <th>ABR</th>\n",
       "      <th>ABT</th>\n",
       "      <th>...</th>\n",
       "      <th>WAB</th>\n",
       "      <th>WABC</th>\n",
       "      <th>WAFD</th>\n",
       "      <th>WASH</th>\n",
       "      <th>WAT</th>\n",
       "      <th>WBS</th>\n",
       "      <th>WCC</th>\n",
       "      <th>WD</th>\n",
       "      <th>WDAY</th>\n",
       "      <th>WDC</th>\n",
       "    </tr>\n",
       "  </thead>\n",
       "  <tbody>\n",
       "    <tr>\n",
       "      <th>count</th>\n",
       "      <td>24.000000</td>\n",
       "      <td>24.000000</td>\n",
       "      <td>24.000000</td>\n",
       "      <td>24.000000</td>\n",
       "      <td>24.000000</td>\n",
       "      <td>24.000000</td>\n",
       "      <td>24.000000</td>\n",
       "      <td>24.000000</td>\n",
       "      <td>24.000000</td>\n",
       "      <td>24.000000</td>\n",
       "      <td>...</td>\n",
       "      <td>24.000000</td>\n",
       "      <td>24.000000</td>\n",
       "      <td>24.000000</td>\n",
       "      <td>24.000000</td>\n",
       "      <td>24.000000</td>\n",
       "      <td>24.000000</td>\n",
       "      <td>24.000000</td>\n",
       "      <td>24.000000</td>\n",
       "      <td>24.000000</td>\n",
       "      <td>24.000000</td>\n",
       "    </tr>\n",
       "    <tr>\n",
       "      <th>mean</th>\n",
       "      <td>3.750000</td>\n",
       "      <td>3.625000</td>\n",
       "      <td>3.750000</td>\n",
       "      <td>3.625000</td>\n",
       "      <td>2.916667</td>\n",
       "      <td>2.958333</td>\n",
       "      <td>3.083333</td>\n",
       "      <td>3.416667</td>\n",
       "      <td>3.416667</td>\n",
       "      <td>3.416667</td>\n",
       "      <td>...</td>\n",
       "      <td>1.625000</td>\n",
       "      <td>1.333333</td>\n",
       "      <td>1.333333</td>\n",
       "      <td>3.041667</td>\n",
       "      <td>3.125000</td>\n",
       "      <td>3.041667</td>\n",
       "      <td>3.166667</td>\n",
       "      <td>3.208333</td>\n",
       "      <td>2.958333</td>\n",
       "      <td>3.041667</td>\n",
       "    </tr>\n",
       "    <tr>\n",
       "      <th>std</th>\n",
       "      <td>0.442326</td>\n",
       "      <td>0.710939</td>\n",
       "      <td>0.442326</td>\n",
       "      <td>0.710939</td>\n",
       "      <td>1.017955</td>\n",
       "      <td>1.122078</td>\n",
       "      <td>1.059806</td>\n",
       "      <td>0.583592</td>\n",
       "      <td>0.775532</td>\n",
       "      <td>0.775532</td>\n",
       "      <td>...</td>\n",
       "      <td>1.013496</td>\n",
       "      <td>0.481543</td>\n",
       "      <td>0.481543</td>\n",
       "      <td>0.858673</td>\n",
       "      <td>0.797414</td>\n",
       "      <td>0.806450</td>\n",
       "      <td>0.761387</td>\n",
       "      <td>0.779028</td>\n",
       "      <td>0.806450</td>\n",
       "      <td>0.750604</td>\n",
       "    </tr>\n",
       "    <tr>\n",
       "      <th>min</th>\n",
       "      <td>3.000000</td>\n",
       "      <td>1.000000</td>\n",
       "      <td>3.000000</td>\n",
       "      <td>1.000000</td>\n",
       "      <td>1.000000</td>\n",
       "      <td>1.000000</td>\n",
       "      <td>1.000000</td>\n",
       "      <td>2.000000</td>\n",
       "      <td>1.000000</td>\n",
       "      <td>1.000000</td>\n",
       "      <td>...</td>\n",
       "      <td>1.000000</td>\n",
       "      <td>1.000000</td>\n",
       "      <td>1.000000</td>\n",
       "      <td>1.000000</td>\n",
       "      <td>2.000000</td>\n",
       "      <td>2.000000</td>\n",
       "      <td>2.000000</td>\n",
       "      <td>2.000000</td>\n",
       "      <td>2.000000</td>\n",
       "      <td>2.000000</td>\n",
       "    </tr>\n",
       "    <tr>\n",
       "      <th>25%</th>\n",
       "      <td>3.750000</td>\n",
       "      <td>3.000000</td>\n",
       "      <td>3.750000</td>\n",
       "      <td>3.000000</td>\n",
       "      <td>2.000000</td>\n",
       "      <td>2.000000</td>\n",
       "      <td>2.750000</td>\n",
       "      <td>3.000000</td>\n",
       "      <td>3.000000</td>\n",
       "      <td>3.000000</td>\n",
       "      <td>...</td>\n",
       "      <td>1.000000</td>\n",
       "      <td>1.000000</td>\n",
       "      <td>1.000000</td>\n",
       "      <td>2.750000</td>\n",
       "      <td>2.750000</td>\n",
       "      <td>2.000000</td>\n",
       "      <td>3.000000</td>\n",
       "      <td>3.000000</td>\n",
       "      <td>2.000000</td>\n",
       "      <td>2.750000</td>\n",
       "    </tr>\n",
       "    <tr>\n",
       "      <th>50%</th>\n",
       "      <td>4.000000</td>\n",
       "      <td>4.000000</td>\n",
       "      <td>4.000000</td>\n",
       "      <td>4.000000</td>\n",
       "      <td>3.000000</td>\n",
       "      <td>3.000000</td>\n",
       "      <td>3.000000</td>\n",
       "      <td>3.000000</td>\n",
       "      <td>4.000000</td>\n",
       "      <td>4.000000</td>\n",
       "      <td>...</td>\n",
       "      <td>1.000000</td>\n",
       "      <td>1.000000</td>\n",
       "      <td>1.000000</td>\n",
       "      <td>3.000000</td>\n",
       "      <td>3.000000</td>\n",
       "      <td>3.000000</td>\n",
       "      <td>3.000000</td>\n",
       "      <td>3.000000</td>\n",
       "      <td>3.000000</td>\n",
       "      <td>3.000000</td>\n",
       "    </tr>\n",
       "    <tr>\n",
       "      <th>75%</th>\n",
       "      <td>4.000000</td>\n",
       "      <td>4.000000</td>\n",
       "      <td>4.000000</td>\n",
       "      <td>4.000000</td>\n",
       "      <td>4.000000</td>\n",
       "      <td>4.000000</td>\n",
       "      <td>4.000000</td>\n",
       "      <td>4.000000</td>\n",
       "      <td>4.000000</td>\n",
       "      <td>4.000000</td>\n",
       "      <td>...</td>\n",
       "      <td>2.000000</td>\n",
       "      <td>2.000000</td>\n",
       "      <td>2.000000</td>\n",
       "      <td>4.000000</td>\n",
       "      <td>4.000000</td>\n",
       "      <td>4.000000</td>\n",
       "      <td>4.000000</td>\n",
       "      <td>4.000000</td>\n",
       "      <td>4.000000</td>\n",
       "      <td>4.000000</td>\n",
       "    </tr>\n",
       "    <tr>\n",
       "      <th>max</th>\n",
       "      <td>4.000000</td>\n",
       "      <td>4.000000</td>\n",
       "      <td>4.000000</td>\n",
       "      <td>4.000000</td>\n",
       "      <td>4.000000</td>\n",
       "      <td>4.000000</td>\n",
       "      <td>4.000000</td>\n",
       "      <td>4.000000</td>\n",
       "      <td>4.000000</td>\n",
       "      <td>4.000000</td>\n",
       "      <td>...</td>\n",
       "      <td>4.000000</td>\n",
       "      <td>2.000000</td>\n",
       "      <td>2.000000</td>\n",
       "      <td>4.000000</td>\n",
       "      <td>4.000000</td>\n",
       "      <td>4.000000</td>\n",
       "      <td>4.000000</td>\n",
       "      <td>4.000000</td>\n",
       "      <td>4.000000</td>\n",
       "      <td>4.000000</td>\n",
       "    </tr>\n",
       "  </tbody>\n",
       "</table>\n",
       "<p>8 rows × 1088 columns</p>\n",
       "</div>"
      ],
      "text/plain": [
       "            AAPL        AAT       AAWW       ABBV        ABC       ABCB  \\\n",
       "count  24.000000  24.000000  24.000000  24.000000  24.000000  24.000000   \n",
       "mean    3.750000   3.625000   3.750000   3.625000   2.916667   2.958333   \n",
       "std     0.442326   0.710939   0.442326   0.710939   1.017955   1.122078   \n",
       "min     3.000000   1.000000   3.000000   1.000000   1.000000   1.000000   \n",
       "25%     3.750000   3.000000   3.750000   3.000000   2.000000   2.000000   \n",
       "50%     4.000000   4.000000   4.000000   4.000000   3.000000   3.000000   \n",
       "75%     4.000000   4.000000   4.000000   4.000000   4.000000   4.000000   \n",
       "max     4.000000   4.000000   4.000000   4.000000   4.000000   4.000000   \n",
       "\n",
       "             ABG       ABMD        ABR        ABT  ...        WAB       WABC  \\\n",
       "count  24.000000  24.000000  24.000000  24.000000  ...  24.000000  24.000000   \n",
       "mean    3.083333   3.416667   3.416667   3.416667  ...   1.625000   1.333333   \n",
       "std     1.059806   0.583592   0.775532   0.775532  ...   1.013496   0.481543   \n",
       "min     1.000000   2.000000   1.000000   1.000000  ...   1.000000   1.000000   \n",
       "25%     2.750000   3.000000   3.000000   3.000000  ...   1.000000   1.000000   \n",
       "50%     3.000000   3.000000   4.000000   4.000000  ...   1.000000   1.000000   \n",
       "75%     4.000000   4.000000   4.000000   4.000000  ...   2.000000   2.000000   \n",
       "max     4.000000   4.000000   4.000000   4.000000  ...   4.000000   2.000000   \n",
       "\n",
       "            WAFD       WASH        WAT        WBS        WCC         WD  \\\n",
       "count  24.000000  24.000000  24.000000  24.000000  24.000000  24.000000   \n",
       "mean    1.333333   3.041667   3.125000   3.041667   3.166667   3.208333   \n",
       "std     0.481543   0.858673   0.797414   0.806450   0.761387   0.779028   \n",
       "min     1.000000   1.000000   2.000000   2.000000   2.000000   2.000000   \n",
       "25%     1.000000   2.750000   2.750000   2.000000   3.000000   3.000000   \n",
       "50%     1.000000   3.000000   3.000000   3.000000   3.000000   3.000000   \n",
       "75%     2.000000   4.000000   4.000000   4.000000   4.000000   4.000000   \n",
       "max     2.000000   4.000000   4.000000   4.000000   4.000000   4.000000   \n",
       "\n",
       "            WDAY        WDC  \n",
       "count  24.000000  24.000000  \n",
       "mean    2.958333   3.041667  \n",
       "std     0.806450   0.750604  \n",
       "min     2.000000   2.000000  \n",
       "25%     2.000000   2.750000  \n",
       "50%     3.000000   3.000000  \n",
       "75%     4.000000   4.000000  \n",
       "max     4.000000   4.000000  \n",
       "\n",
       "[8 rows x 1088 columns]"
      ]
     },
     "execution_count": 40,
     "metadata": {},
     "output_type": "execute_result"
    }
   ],
   "source": [
    "df_fscore.describe()"
   ]
  },
  {
   "cell_type": "markdown",
   "metadata": {},
   "source": [
    "# Sharpe Ratios"
   ]
  },
  {
   "cell_type": "code",
   "execution_count": 41,
   "metadata": {},
   "outputs": [],
   "source": [
    "def calculate_sharpe_ratio(portfolio = None, data = price_df):\n",
    "    try: dat_len=len(data.columns)\n",
    "    except AttributeError: dat_len=len(data)\n",
    "    if portfolio is None: portfolio=[1.0/dat_len]*dat_len\n",
    "    log_return = np.sum(np.log(data/data.shift())*portfolio, axis=1)\n",
    "    sharpe_ratio = log_return.mean()/log_return.std()\n",
    "    return sharpe_ratio\n",
    "\n",
    "def give_weight(selected_stocks=[]):    #portfolio weight is evenly distributed among selected symbols \n",
    "    if len(selected_stocks) ==0:portfolio=[1.0/len(ticker_list)]*len(ticker_list)\n",
    "    else:\n",
    "        portfolio = [0]*len(ticker_list)\n",
    "        weight = 1.0/len(selected_stocks)\n",
    "        for stock in selected_stocks:\n",
    "            portfolio[ticker_list.index(stock)] = weight\n",
    "    return portfolio\n",
    "\n",
    "log_return = lambda portfolio =[] : np.sum(np.log(price_df/price_df.shift())*give_weight(portfolio), axis=1)"
   ]
  },
  {
   "cell_type": "code",
   "execution_count": 42,
   "metadata": {},
   "outputs": [
    {
     "data": {
      "text/plain": [
       "4.458333333333333"
      ]
     },
     "execution_count": 42,
     "metadata": {},
     "output_type": "execute_result"
    }
   ],
   "source": [
    "df_fscore.mean().max()"
   ]
  },
  {
   "cell_type": "code",
   "execution_count": 43,
   "metadata": {},
   "outputs": [],
   "source": [
    "#the mean f-scores of individual symbols over 2016-2021 \n",
    "fscore_means = {x : df_fscore[x].mean() for x in ticker_list}\n",
    "\n",
    "#log returns of individual stocks \n",
    "df_log_r = {x : calculate_sharpe_ratio( give_weight([x])) for x in ticker_list}"
   ]
  },
  {
   "cell_type": "code",
   "execution_count": 44,
   "metadata": {},
   "outputs": [
    {
     "data": {
      "image/png": "[encoded data removed]",
      "text/plain": [
       "<Figure size 640x480 with 1 Axes>"
      ]
     },
     "metadata": {},
     "output_type": "display_data"
    }
   ],
   "source": [
    "plt.ylabel(\"Sharpe Ratio\")\n",
    "plt.xlabel(\"F Score\")\n",
    "plt.title('Control F Scores')\n",
    "X = np.array([*fscore_means.values()])\n",
    "Y = np.array([*df_log_r.values()])\n",
    "plt.scatter(X,Y)\n",
    "plt.show()"
   ]
  },
  {
   "cell_type": "code",
   "execution_count": 45,
   "metadata": {},
   "outputs": [
    {
     "data": {
      "text/plain": [
       "<AxesSubplot:>"
      ]
     },
     "execution_count": 45,
     "metadata": {},
     "output_type": "execute_result"
    },
    {
     "data": {
      "image/png": "[encoded data removed]",
      "text/plain": [
       "<Figure size 640x480 with 1 Axes>"
      ]
     },
     "metadata": {},
     "output_type": "display_data"
    }
   ],
   "source": [
    "Returns = log_return()\n",
    "\n",
    "fig, ax = plt.subplots()\n",
    "\n",
    "Returns.hist(bins=50, ax=ax)"
   ]
  },
  {
   "cell_type": "markdown",
   "metadata": {},
   "source": [
    "# Alterations"
   ]
  },
  {
   "cell_type": "markdown",
   "metadata": {},
   "source": [
    "## Gross Profibility instead of Net"
   ]
  },
  {
   "cell_type": "code",
   "execution_count": 46,
   "metadata": {},
   "outputs": [],
   "source": [
    "# Positive gross profit\n",
    "@keyerrorwrap \n",
    "def pos_GP(self,quarter): \n",
    "    return self.ticker.loc['grossprofit'][quarter] >0\n",
    "\n",
    "Score.pos_GP = pos_GP\n",
    "\n",
    "def gross_profit(self, quarter):\n",
    "    score = 0\n",
    "    score_funcs =[self.asset_turnover,\n",
    "                    self.gross_margin,\n",
    "                    self.new_shares,\n",
    "                    self.current_ratio,\n",
    "                    self.low_LT_debt,\n",
    "                    self.CF_NI,\n",
    "                    self.pos_OCF,\n",
    "                    self.pos_ROA,\n",
    "                    self.pos_GP] # only change from prev model\n",
    "    for criteria in score_funcs:\n",
    "        score += criteria(quarter)\n",
    "    return score\n",
    "\n",
    "Score.gross_profit = gross_profit"
   ]
  },
  {
   "cell_type": "code",
   "execution_count": 47,
   "metadata": {},
   "outputs": [],
   "source": [
    "df_grossP = pd.DataFrame({x: {Quart: Score(dfx[x]).gross_profit(Quart) for Quart in time_range} for x in ticker_list}, index=time_range)"
   ]
  },
  {
   "cell_type": "code",
   "execution_count": 48,
   "metadata": {},
   "outputs": [
    {
     "data": {
      "text/html": [
       "<div>\n",
       "<style scoped>\n",
       "    .dataframe tbody tr th:only-of-type {\n",
       "        vertical-align: middle;\n",
       "    }\n",
       "\n",
       "    .dataframe tbody tr th {\n",
       "        vertical-align: top;\n",
       "    }\n",
       "\n",
       "    .dataframe thead th {\n",
       "        text-align: right;\n",
       "    }\n",
       "</style>\n",
       "<table border=\"1\" class=\"dataframe\">\n",
       "  <thead>\n",
       "    <tr style=\"text-align: right;\">\n",
       "      <th></th>\n",
       "      <th>AAPL</th>\n",
       "      <th>AAT</th>\n",
       "      <th>AAWW</th>\n",
       "      <th>ABBV</th>\n",
       "      <th>ABC</th>\n",
       "      <th>ABCB</th>\n",
       "      <th>ABG</th>\n",
       "      <th>ABMD</th>\n",
       "      <th>ABR</th>\n",
       "      <th>ABT</th>\n",
       "      <th>...</th>\n",
       "      <th>WAB</th>\n",
       "      <th>WABC</th>\n",
       "      <th>WAFD</th>\n",
       "      <th>WASH</th>\n",
       "      <th>WAT</th>\n",
       "      <th>WBS</th>\n",
       "      <th>WCC</th>\n",
       "      <th>WD</th>\n",
       "      <th>WDAY</th>\n",
       "      <th>WDC</th>\n",
       "    </tr>\n",
       "  </thead>\n",
       "  <tbody>\n",
       "    <tr>\n",
       "      <th>count</th>\n",
       "      <td>24.000000</td>\n",
       "      <td>24.000000</td>\n",
       "      <td>24.000000</td>\n",
       "      <td>24.000000</td>\n",
       "      <td>24.000000</td>\n",
       "      <td>24.000000</td>\n",
       "      <td>24.000000</td>\n",
       "      <td>24.000000</td>\n",
       "      <td>24.000000</td>\n",
       "      <td>24.000000</td>\n",
       "      <td>...</td>\n",
       "      <td>24.000000</td>\n",
       "      <td>24.0</td>\n",
       "      <td>24.000000</td>\n",
       "      <td>24.000000</td>\n",
       "      <td>24.000000</td>\n",
       "      <td>24.00000</td>\n",
       "      <td>24.000000</td>\n",
       "      <td>24.000000</td>\n",
       "      <td>24.000000</td>\n",
       "      <td>24.000000</td>\n",
       "    </tr>\n",
       "    <tr>\n",
       "      <th>mean</th>\n",
       "      <td>3.750000</td>\n",
       "      <td>3.625000</td>\n",
       "      <td>3.750000</td>\n",
       "      <td>3.625000</td>\n",
       "      <td>3.000000</td>\n",
       "      <td>3.041667</td>\n",
       "      <td>3.166667</td>\n",
       "      <td>3.000000</td>\n",
       "      <td>3.000000</td>\n",
       "      <td>3.000000</td>\n",
       "      <td>...</td>\n",
       "      <td>1.375000</td>\n",
       "      <td>1.0</td>\n",
       "      <td>0.958333</td>\n",
       "      <td>3.416667</td>\n",
       "      <td>3.500000</td>\n",
       "      <td>3.37500</td>\n",
       "      <td>3.583333</td>\n",
       "      <td>3.583333</td>\n",
       "      <td>3.416667</td>\n",
       "      <td>3.541667</td>\n",
       "    </tr>\n",
       "    <tr>\n",
       "      <th>std</th>\n",
       "      <td>0.442326</td>\n",
       "      <td>0.710939</td>\n",
       "      <td>0.442326</td>\n",
       "      <td>0.710939</td>\n",
       "      <td>0.932505</td>\n",
       "      <td>1.041703</td>\n",
       "      <td>0.963087</td>\n",
       "      <td>0.589768</td>\n",
       "      <td>0.780189</td>\n",
       "      <td>0.780189</td>\n",
       "      <td>...</td>\n",
       "      <td>1.013496</td>\n",
       "      <td>0.0</td>\n",
       "      <td>0.204124</td>\n",
       "      <td>0.717282</td>\n",
       "      <td>0.589768</td>\n",
       "      <td>0.76967</td>\n",
       "      <td>0.503610</td>\n",
       "      <td>0.503610</td>\n",
       "      <td>0.583592</td>\n",
       "      <td>0.508977</td>\n",
       "    </tr>\n",
       "    <tr>\n",
       "      <th>min</th>\n",
       "      <td>3.000000</td>\n",
       "      <td>1.000000</td>\n",
       "      <td>3.000000</td>\n",
       "      <td>1.000000</td>\n",
       "      <td>1.000000</td>\n",
       "      <td>1.000000</td>\n",
       "      <td>1.000000</td>\n",
       "      <td>2.000000</td>\n",
       "      <td>1.000000</td>\n",
       "      <td>1.000000</td>\n",
       "      <td>...</td>\n",
       "      <td>1.000000</td>\n",
       "      <td>1.0</td>\n",
       "      <td>0.000000</td>\n",
       "      <td>1.000000</td>\n",
       "      <td>2.000000</td>\n",
       "      <td>1.00000</td>\n",
       "      <td>3.000000</td>\n",
       "      <td>3.000000</td>\n",
       "      <td>2.000000</td>\n",
       "      <td>3.000000</td>\n",
       "    </tr>\n",
       "    <tr>\n",
       "      <th>25%</th>\n",
       "      <td>3.750000</td>\n",
       "      <td>3.000000</td>\n",
       "      <td>3.750000</td>\n",
       "      <td>3.000000</td>\n",
       "      <td>2.750000</td>\n",
       "      <td>2.750000</td>\n",
       "      <td>3.000000</td>\n",
       "      <td>3.000000</td>\n",
       "      <td>3.000000</td>\n",
       "      <td>3.000000</td>\n",
       "      <td>...</td>\n",
       "      <td>1.000000</td>\n",
       "      <td>1.0</td>\n",
       "      <td>1.000000</td>\n",
       "      <td>3.000000</td>\n",
       "      <td>3.000000</td>\n",
       "      <td>3.00000</td>\n",
       "      <td>3.000000</td>\n",
       "      <td>3.000000</td>\n",
       "      <td>3.000000</td>\n",
       "      <td>3.000000</td>\n",
       "    </tr>\n",
       "    <tr>\n",
       "      <th>50%</th>\n",
       "      <td>4.000000</td>\n",
       "      <td>4.000000</td>\n",
       "      <td>4.000000</td>\n",
       "      <td>4.000000</td>\n",
       "      <td>3.000000</td>\n",
       "      <td>3.000000</td>\n",
       "      <td>3.000000</td>\n",
       "      <td>3.000000</td>\n",
       "      <td>3.000000</td>\n",
       "      <td>3.000000</td>\n",
       "      <td>...</td>\n",
       "      <td>1.000000</td>\n",
       "      <td>1.0</td>\n",
       "      <td>1.000000</td>\n",
       "      <td>3.500000</td>\n",
       "      <td>4.000000</td>\n",
       "      <td>3.50000</td>\n",
       "      <td>4.000000</td>\n",
       "      <td>4.000000</td>\n",
       "      <td>3.000000</td>\n",
       "      <td>4.000000</td>\n",
       "    </tr>\n",
       "    <tr>\n",
       "      <th>75%</th>\n",
       "      <td>4.000000</td>\n",
       "      <td>4.000000</td>\n",
       "      <td>4.000000</td>\n",
       "      <td>4.000000</td>\n",
       "      <td>4.000000</td>\n",
       "      <td>4.000000</td>\n",
       "      <td>4.000000</td>\n",
       "      <td>3.000000</td>\n",
       "      <td>3.250000</td>\n",
       "      <td>3.250000</td>\n",
       "      <td>...</td>\n",
       "      <td>1.000000</td>\n",
       "      <td>1.0</td>\n",
       "      <td>1.000000</td>\n",
       "      <td>4.000000</td>\n",
       "      <td>4.000000</td>\n",
       "      <td>4.00000</td>\n",
       "      <td>4.000000</td>\n",
       "      <td>4.000000</td>\n",
       "      <td>4.000000</td>\n",
       "      <td>4.000000</td>\n",
       "    </tr>\n",
       "    <tr>\n",
       "      <th>max</th>\n",
       "      <td>4.000000</td>\n",
       "      <td>4.000000</td>\n",
       "      <td>4.000000</td>\n",
       "      <td>4.000000</td>\n",
       "      <td>4.000000</td>\n",
       "      <td>4.000000</td>\n",
       "      <td>4.000000</td>\n",
       "      <td>4.000000</td>\n",
       "      <td>4.000000</td>\n",
       "      <td>4.000000</td>\n",
       "      <td>...</td>\n",
       "      <td>4.000000</td>\n",
       "      <td>1.0</td>\n",
       "      <td>1.000000</td>\n",
       "      <td>4.000000</td>\n",
       "      <td>4.000000</td>\n",
       "      <td>4.00000</td>\n",
       "      <td>4.000000</td>\n",
       "      <td>4.000000</td>\n",
       "      <td>4.000000</td>\n",
       "      <td>4.000000</td>\n",
       "    </tr>\n",
       "  </tbody>\n",
       "</table>\n",
       "<p>8 rows × 1088 columns</p>\n",
       "</div>"
      ],
      "text/plain": [
       "            AAPL        AAT       AAWW       ABBV        ABC       ABCB  \\\n",
       "count  24.000000  24.000000  24.000000  24.000000  24.000000  24.000000   \n",
       "mean    3.750000   3.625000   3.750000   3.625000   3.000000   3.041667   \n",
       "std     0.442326   0.710939   0.442326   0.710939   0.932505   1.041703   \n",
       "min     3.000000   1.000000   3.000000   1.000000   1.000000   1.000000   \n",
       "25%     3.750000   3.000000   3.750000   3.000000   2.750000   2.750000   \n",
       "50%     4.000000   4.000000   4.000000   4.000000   3.000000   3.000000   \n",
       "75%     4.000000   4.000000   4.000000   4.000000   4.000000   4.000000   \n",
       "max     4.000000   4.000000   4.000000   4.000000   4.000000   4.000000   \n",
       "\n",
       "             ABG       ABMD        ABR        ABT  ...        WAB  WABC  \\\n",
       "count  24.000000  24.000000  24.000000  24.000000  ...  24.000000  24.0   \n",
       "mean    3.166667   3.000000   3.000000   3.000000  ...   1.375000   1.0   \n",
       "std     0.963087   0.589768   0.780189   0.780189  ...   1.013496   0.0   \n",
       "min     1.000000   2.000000   1.000000   1.000000  ...   1.000000   1.0   \n",
       "25%     3.000000   3.000000   3.000000   3.000000  ...   1.000000   1.0   \n",
       "50%     3.000000   3.000000   3.000000   3.000000  ...   1.000000   1.0   \n",
       "75%     4.000000   3.000000   3.250000   3.250000  ...   1.000000   1.0   \n",
       "max     4.000000   4.000000   4.000000   4.000000  ...   4.000000   1.0   \n",
       "\n",
       "            WAFD       WASH        WAT       WBS        WCC         WD  \\\n",
       "count  24.000000  24.000000  24.000000  24.00000  24.000000  24.000000   \n",
       "mean    0.958333   3.416667   3.500000   3.37500   3.583333   3.583333   \n",
       "std     0.204124   0.717282   0.589768   0.76967   0.503610   0.503610   \n",
       "min     0.000000   1.000000   2.000000   1.00000   3.000000   3.000000   \n",
       "25%     1.000000   3.000000   3.000000   3.00000   3.000000   3.000000   \n",
       "50%     1.000000   3.500000   4.000000   3.50000   4.000000   4.000000   \n",
       "75%     1.000000   4.000000   4.000000   4.00000   4.000000   4.000000   \n",
       "max     1.000000   4.000000   4.000000   4.00000   4.000000   4.000000   \n",
       "\n",
       "            WDAY        WDC  \n",
       "count  24.000000  24.000000  \n",
       "mean    3.416667   3.541667  \n",
       "std     0.583592   0.508977  \n",
       "min     2.000000   3.000000  \n",
       "25%     3.000000   3.000000  \n",
       "50%     3.000000   4.000000  \n",
       "75%     4.000000   4.000000  \n",
       "max     4.000000   4.000000  \n",
       "\n",
       "[8 rows x 1088 columns]"
      ]
     },
     "execution_count": 48,
     "metadata": {},
     "output_type": "execute_result"
    }
   ],
   "source": [
    "df_grossP.describe()"
   ]
  },
  {
   "cell_type": "markdown",
   "metadata": {},
   "source": [
    "## Return on Equity"
   ]
  },
  {
   "cell_type": "code",
   "execution_count": 49,
   "metadata": {},
   "outputs": [],
   "source": [
    "@keyerrorwrap\n",
    "def pos_RoE(self,quarter): # greater RoE in current quarter compared to last quarter         \n",
    "    cur_q = self.ticker[quarter]\n",
    "    pre_q = self.ticker[lastQ(quarter)]\n",
    "    return (cur_q.loc['netincome'] / cur_q.loc['totalstockholderequity']) > (pre_q.loc['netincome'] / pre_q.loc['totalstockholderequity'])\n",
    "\n",
    "\n",
    "Score.pos_RoE = pos_RoE\n",
    "\n",
    "def RoE_included(self, quarter):\n",
    "    score = 0\n",
    "    score_funcs =[self.asset_turnover,\n",
    "                    self.gross_margin,\n",
    "                    self.new_shares,\n",
    "                    self.current_ratio,\n",
    "                    self.low_LT_debt,\n",
    "                    self.CF_NI,\n",
    "                    self.pos_OCF,\n",
    "                    self.pos_RoE,\n",
    "                    self.pos_ROA,\n",
    "                    self.pos_NI]\n",
    "    for criteria in score_funcs:\n",
    "        score += criteria(quarter)\n",
    "    return score\n",
    "\n",
    "Score.RoE_included = RoE_included\n"
   ]
  },
  {
   "cell_type": "code",
   "execution_count": 50,
   "metadata": {},
   "outputs": [],
   "source": [
    "df_RoE = pd.DataFrame({x: {Quart: Score(dfx[x]).RoE_included(Quart) for Quart in time_range} for x in ticker_list}, index=time_range)"
   ]
  },
  {
   "cell_type": "markdown",
   "metadata": {},
   "source": [
    "## Removal of Net Income Factors"
   ]
  },
  {
   "cell_type": "code",
   "execution_count": 51,
   "metadata": {},
   "outputs": [],
   "source": [
    "def no_NI_factors(self, quarter):\n",
    "    score = 0\n",
    "    score_funcs =[self.asset_turnover,\n",
    "                    self.gross_margin,\n",
    "                    self.new_shares,\n",
    "                    self.current_ratio,\n",
    "                    self.low_LT_debt,\n",
    "                    self.pos_OCF]\n",
    "    for criteria in score_funcs:\n",
    "        score += criteria(quarter)\n",
    "    return score\n",
    "\n",
    "Score.no_NI_factors = no_NI_factors"
   ]
  },
  {
   "cell_type": "code",
   "execution_count": 52,
   "metadata": {},
   "outputs": [],
   "source": [
    "df_noNI = pd.DataFrame({x: {Quart: Score(dfx[x]).no_NI_factors(Quart) for Quart in time_range} for x in ticker_list}, index=time_range)"
   ]
  },
  {
   "cell_type": "markdown",
   "metadata": {},
   "source": [
    "## Gross Profit with no Net Income Factors "
   ]
  },
  {
   "cell_type": "code",
   "execution_count": 53,
   "metadata": {},
   "outputs": [],
   "source": [
    "def GP_NI(self, quarter):\n",
    "    score = 0\n",
    "    score_funcs =[self.asset_turnover,\n",
    "                    self.gross_margin,\n",
    "                    self.new_shares,\n",
    "                    self.current_ratio,\n",
    "                    self.low_LT_debt,\n",
    "                    self.pos_OCF,\n",
    "                    self.pos_GP]\n",
    "    for criteria in score_funcs:\n",
    "        score += criteria(quarter)\n",
    "    return score\n",
    "\n",
    "Score.GP_NI = GP_NI"
   ]
  },
  {
   "cell_type": "code",
   "execution_count": 54,
   "metadata": {},
   "outputs": [],
   "source": [
    "df_GPNI = pd.DataFrame({x: {Quart: Score(dfx[x]).GP_NI(Quart) for Quart in time_range} for x in ticker_list}, index=time_range)"
   ]
  },
  {
   "cell_type": "markdown",
   "metadata": {},
   "source": [
    "## Gross Profit and RoE with out Net Income Factors "
   ]
  },
  {
   "cell_type": "code",
   "execution_count": 55,
   "metadata": {},
   "outputs": [],
   "source": [
    "def GP_ROE_NI(self, quarter):\n",
    "    score = 0\n",
    "    score_funcs =[self.asset_turnover,\n",
    "                    self.gross_margin,\n",
    "                    self.new_shares,\n",
    "                    self.current_ratio,\n",
    "                    self.low_LT_debt,\n",
    "                    self.pos_OCF,\n",
    "                    self.pos_GP]\n",
    "    for criteria in score_funcs:\n",
    "        score += criteria(quarter)\n",
    "    return score\n",
    "\n",
    "Score.GP_ROE_NI = GP_ROE_NI"
   ]
  },
  {
   "cell_type": "code",
   "execution_count": 56,
   "metadata": {},
   "outputs": [],
   "source": [
    "df_GPROEIN = pd.DataFrame({x: {Quart: Score(dfx[x]).GP_ROE_NI(Quart) for Quart in time_range} for x in ticker_list}, index=time_range)"
   ]
  },
  {
   "cell_type": "markdown",
   "metadata": {},
   "source": [
    "# Portfolios of Different Scoring Methods"
   ]
  },
  {
   "cell_type": "code",
   "execution_count": 57,
   "metadata": {},
   "outputs": [],
   "source": [
    "select_top_half = lambda condition: [x  for x in condition if (condition[x].mean() > condition.mean().mean())]\n",
    "\n",
    "select_top_Q   = lambda condition: [x  for x in condition if (condition[x].mean() > condition.mean().quantile())]\n",
    "\n",
    "select_top1std = lambda condition: [x  for x in condition if (condition[x].mean() > (condition.mean().mean() + condition.std().mean()))]\n",
    "\n",
    "select_low1std = lambda condition: [x  for x in condition if (condition[x].mean() < (condition.mean().mean() + condition.std().mean()))]\n",
    "\n",
    "high_p_tickers = lambda condition: [x for x in ticker_list if ((calculate_sharpe_ratio( give_weight([x]))>0) and (condition[x].mean() > (condition.mean().mean() + condition.std().mean())))]\n"
   ]
  },
  {
   "cell_type": "code",
   "execution_count": 58,
   "metadata": {},
   "outputs": [],
   "source": [
    "portfolio_criteria = {'F Score' : df_fscore,\n",
    "                    'Gross Profit' : df_grossP,\n",
    "                    'RoE included' : df_RoE,\n",
    "                    'NI excluded' : df_noNI,\n",
    "                    'GP NI' : df_GPNI,\n",
    "                    'GP ROE NI' : df_GPROEIN}\n",
    "\n",
    "select_funcs = {' top half':select_top_half,\n",
    "                ' top quantile'   : select_top_Q,\n",
    "                ' top 1 std':select_top1std ,\n",
    "                ' bot 1 std':select_low1std,\n",
    "                #' high sharpe' : high_p_tickers\n",
    "                }\n",
    "\n",
    "portfolios = {}\n",
    "for i in portfolio_criteria:\n",
    "    for x in select_funcs:\n",
    "        portfolios[f'{i}{x}'] = select_funcs[x](portfolio_criteria[i])\n"
   ]
  },
  {
   "cell_type": "code",
   "execution_count": 59,
   "metadata": {},
   "outputs": [],
   "source": [
    "portfolio_scores = {'Control' : calculate_sharpe_ratio()}\n",
    "for port in portfolios:\n",
    "    portfolio_scores[port]= calculate_sharpe_ratio(give_weight(portfolios[port]))\n",
    "\n",
    "portfolio_scores = pd.Series(portfolio_scores)"
   ]
  },
  {
   "cell_type": "code",
   "execution_count": 60,
   "metadata": {},
   "outputs": [
    {
     "data": {
      "text/plain": [
       "Control                     -0.265833\n",
       "F Score top half            -0.310806\n",
       "F Score top quantile        -0.310806\n",
       "F Score top 1 std           -0.349863\n",
       "F Score bot 1 std           -0.253031\n",
       "Gross Profit top half       -0.294457\n",
       "Gross Profit top quantile   -0.293298\n",
       "Gross Profit top 1 std      -0.271918\n",
       "Gross Profit bot 1 std      -0.264612\n",
       "RoE included top half       -0.304400\n",
       "RoE included top quantile   -0.309755\n",
       "RoE included top 1 std      -0.367109\n",
       "RoE included bot 1 std      -0.258201\n",
       "NI excluded top half        -0.303030\n",
       "NI excluded top quantile    -0.310879\n",
       "NI excluded top 1 std       -0.339241\n",
       "NI excluded bot 1 std       -0.258478\n",
       "GP NI top half              -0.279403\n",
       "GP NI top quantile          -0.286724\n",
       "GP NI top 1 std             -0.259446\n",
       "GP NI bot 1 std             -0.266243\n",
       "GP ROE NI top half          -0.279403\n",
       "GP ROE NI top quantile      -0.286724\n",
       "GP ROE NI top 1 std         -0.259446\n",
       "GP ROE NI bot 1 std         -0.266243\n",
       "dtype: float64"
      ]
     },
     "execution_count": 60,
     "metadata": {},
     "output_type": "execute_result"
    }
   ],
   "source": [
    "portfolio_scores\n"
   ]
  },
  {
   "cell_type": "code",
   "execution_count": 61,
   "metadata": {},
   "outputs": [
    {
     "data": {
      "text/plain": [
       "<AxesSubplot:title={'center':'Portfolio Sharpe Ratios'}, ylabel='Sharpe Ratio'>"
      ]
     },
     "execution_count": 61,
     "metadata": {},
     "output_type": "execute_result"
    },
    {
     "data": {
      "image/png": "[encoded data removed]",
      "text/plain": [
       "<Figure size 640x480 with 1 Axes>"
      ]
     },
     "metadata": {},
     "output_type": "display_data"
    }
   ],
   "source": [
    "plt.ylabel(\"Sharpe Ratio\")\n",
    "plt.title(\"Portfolio Sharpe Ratios\")\n",
    "\n",
    "\n",
    "portfolio_scores.plot.bar(color ='maroon',width = 0.6)\n"
   ]
  },
  {
   "cell_type": "code",
   "execution_count": 62,
   "metadata": {},
   "outputs": [],
   "source": [
    "# selecting by high sharpe and high 'score'\n",
    "high_sharpe = {}\n",
    "for i in portfolio_criteria:high_sharpe[i] = calculate_sharpe_ratio(give_weight(high_p_tickers(portfolio_criteria[i])))"
   ]
  },
  {
   "cell_type": "code",
   "execution_count": 63,
   "metadata": {},
   "outputs": [
    {
     "data": {
      "text/plain": [
       "<AxesSubplot:title={'center':'Modified Scores of High Sharpe Portfolios'}, ylabel='Portfolio Sharpe Ratios'>"
      ]
     },
     "execution_count": 63,
     "metadata": {},
     "output_type": "execute_result"
    },
    {
     "data": {
      "image/png": "[encoded data removed]",
      "text/plain": [
       "<Figure size 640x480 with 1 Axes>"
      ]
     },
     "metadata": {},
     "output_type": "display_data"
    }
   ],
   "source": [
    "high_sharpe = pd.Series(high_sharpe)\n",
    "\n",
    "\n",
    "plt.ylabel(\"Portfolio Sharpe Ratios\")\n",
    "plt.title(\"Modified Scores of High Sharpe Portfolios\")\n",
    "\n",
    "\n",
    "high_sharpe.plot.bar(width = 0.6)\n"
   ]
  },
  {
   "cell_type": "code",
   "execution_count": 64,
   "metadata": {},
   "outputs": [
    {
     "data": {
      "text/plain": [
       "F Score         0.252360\n",
       "Gross Profit    0.230024\n",
       "RoE included    0.223497\n",
       "NI excluded     0.191611\n",
       "GP NI           0.233128\n",
       "GP ROE NI       0.233128\n",
       "dtype: float64"
      ]
     },
     "execution_count": 64,
     "metadata": {},
     "output_type": "execute_result"
    }
   ],
   "source": [
    "high_sharpe"
   ]
  }
 ],
 "metadata": {
  "kernelspec": {
   "display_name": "fint37",
   "language": "python",
   "name": "python3"
  },
  "language_info": {
   "codemirror_mode": {
    "name": "ipython",
    "version": 3
   },
   "file_extension": ".py",
   "mimetype": "text/x-python",
   "name": "python",
   "nbconvert_exporter": "python",
   "pygments_lexer": "ipython3",
   "version": "3.7.0"
  },
  "orig_nbformat": 4,
  "vscode": {
   "interpreter": {
    "hash": "7f1ee5340813d475bf480abbdc15a9e5548d6d7aa97c1b388c8b7b13e9380f2b"
   }
  }
 },
 "nbformat": 4,
 "nbformat_minor": 2
}
